{
  "nbformat": 4,
  "nbformat_minor": 0,
  "metadata": {
    "colab": {
      "provenance": [],
      "toc_visible": true,
      "authorship_tag": "ABX9TyMyiTWLeFxkyfrZx3UM4ksK",
      "include_colab_link": true
    },
    "kernelspec": {
      "name": "python3",
      "display_name": "Python 3"
    },
    "language_info": {
      "name": "python"
    }
  },
  "cells": [
    {
      "cell_type": "markdown",
      "metadata": {
        "id": "view-in-github",
        "colab_type": "text"
      },
      "source": [
        "<a href=\"https://colab.research.google.com/github/thasniazeez/CODSOFT/blob/main/Thasni_TA.ipynb\" target=\"_parent\"><img src=\"https://colab.research.google.com/assets/colab-badge.svg\" alt=\"Open In Colab\"/></a>"
      ]
    },
    {
      "cell_type": "code",
      "source": [
        "import os\n",
        "import base64\n",
        "import pandas as pd\n",
        "import matplotlib.pyplot as plt\n",
        "from io import BytesIO\n",
        "\n",
        "# Helper to generate Base64-encoded chart\n",
        "def save_chart_to_base64(df, column, chart_type=\"distribution\"):\n",
        "    buffer = BytesIO()\n",
        "    plt.figure(figsize=(8, 4))\n",
        "    if chart_type == \"distribution\":\n",
        "        df[column].value_counts().plot(kind=\"bar\", color=\"skyblue\")\n",
        "        plt.title(f\"Distribution of {column}\")\n",
        "        plt.xlabel(column)\n",
        "        plt.ylabel(\"Count\")\n",
        "    elif chart_type == \"boxplot\":\n",
        "        plt.boxplot(df[column].dropna(), vert=False, patch_artist=True, boxprops=dict(facecolor=\"skyblue\"))\n",
        "        plt.title(f\"Boxplot of {column}\")\n",
        "        plt.xlabel(column)\n",
        "\n",
        "    plt.savefig(buffer, format=\"png\")\n",
        "    plt.close()\n",
        "    buffer.seek(0)\n",
        "    base64_string = base64.b64encode(buffer.read()).decode()\n",
        "    buffer.close()\n",
        "    return f\"data:image/png;base64,{base64_string}\"\n",
        "\n",
        "# Generate the report\n",
        "def generate_html_report(df, report_path=\"data_analysis_report.html\"):\n",
        "    # 1. Missing Values\n",
        "    missing_values = df.isnull().sum()\n",
        "    missing_values_html = missing_values[missing_values > 0].to_frame(name=\"Missing Count\").to_html()\n",
        "\n",
        "    # 2. Categorize Columns by Data Type\n",
        "    numeric_columns = df.select_dtypes(include=[\"number\"]).columns\n",
        "    categorical_columns = df.select_dtypes(include=[\"object\", \"category\"]).columns\n",
        "    column_types_html = f\"\"\"\n",
        "    <h3>Numeric Columns</h3>\n",
        "    <ul>{\"\".join([f\"<li>{col}</li>\" for col in numeric_columns])}</ul>\n",
        "    <h3>Categorical Columns</h3>\n",
        "    <ul>{\"\".join([f\"<li>{col}</li>\" for col in categorical_columns])}</ul>\n",
        "    \"\"\"\n",
        "\n",
        "    # 3. Duplicates\n",
        "    duplicates_before = df.duplicated().sum()\n",
        "    df_no_duplicates = df.drop_duplicates()\n",
        "    duplicates_after = df_no_duplicates.duplicated().sum()\n",
        "\n",
        "    # 4. Constant Columns\n",
        "    constant_columns = [col for col in df.columns if df[col].nunique() <= 1]\n",
        "    constant_columns_html = pd.DataFrame(constant_columns, columns=[\"Constant Columns\"]).to_html()\n",
        "\n",
        "    # 5. Boxplots for Numeric Columns\n",
        "    boxplots_html = \"\".join([f'<img src=\"{save_chart_to_base64(df, col, chart_type=\"boxplot\")}\" alt=\"Boxplot of {col}\"><br>'\n",
        "                             for col in numeric_columns])\n",
        "\n",
        "    # 6. Distribution Charts for Selected Columns\n",
        "    selected_columns = df.columns[:6]  # First 6 columns for demonstration\n",
        "    distributions_html = \"\".join([f'<img src=\"{save_chart_to_base64(df, col, chart_type=\"distribution\")}\" alt=\"Distribution of {col}\"><br>'\n",
        "                                  for col in selected_columns])\n",
        "\n",
        "    #  HTML\n",
        "    html_report = f\"\"\"\n",
        "    <html>\n",
        "        <head><title>Data Analysis Report</title></head>\n",
        "        <body>\n",
        "            <h1>Data Analysis Summary</h1>\n",
        "            <h2>1. Missing Values</h2>\n",
        "            {missing_values_html}\n",
        "\n",
        "            <h2>2. Column Types</h2>\n",
        "            {column_types_html}\n",
        "\n",
        "            <h2>3. Duplicate Rows</h2>\n",
        "            <p>Before: {duplicates_before}, After: {duplicates_after}</p>\n",
        "\n",
        "            <h2>4. Constant Columns</h2>\n",
        "            {constant_columns_html}\n",
        "\n",
        "            <h2>5. Outlier Visualization (Boxplots)</h2>\n",
        "            {boxplots_html}\n",
        "\n",
        "            <h2>6. Distribution Charts</h2>\n",
        "            {distributions_html}\n",
        "        </body>\n",
        "    </html>\n",
        "    \"\"\"\n",
        "\n",
        "    # Saving the HTML report\n",
        "    with open(report_path, \"w\") as f:\n",
        "        f.write(html_report)\n",
        "    print(f\"Report saved to {report_path}\")\n",
        "\n",
        "\n",
        "df = pd.read_csv(\"/content/DS_Python_Assignment.xlsx - Data.csv\")\n",
        "generate_html_report(df)\n"
      ],
      "metadata": {
        "colab": {
          "base_uri": "https://localhost:8080/"
        },
        "id": "sEePci4Rm8sm",
        "outputId": "004e58f1-efc2-4349-cd23-8b623f7bfdcf"
      },
      "execution_count": 3,
      "outputs": [
        {
          "output_type": "stream",
          "name": "stdout",
          "text": [
            "Report saved to data_analysis_report.html\n"
          ]
        }
      ]
    },
    {
      "cell_type": "code",
      "source": [],
      "metadata": {
        "id": "r8OEPPOiz4PU"
      },
      "execution_count": null,
      "outputs": []
    },
    {
      "cell_type": "code",
      "source": [],
      "metadata": {
        "id": "piDER2pfz4l4"
      },
      "execution_count": null,
      "outputs": []
    }
  ]
}